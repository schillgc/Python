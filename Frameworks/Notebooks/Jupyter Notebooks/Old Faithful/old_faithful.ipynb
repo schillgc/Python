{
 "cells": [
  {
   "cell_type": "code",
   "execution_count": 1,
   "metadata": {},
   "outputs": [
    {
     "ename": "ValueError",
     "evalue": "could not convert string to float: 'eruptions'",
     "output_type": "error",
     "traceback": [
      "\u001b[1;31m---------------------------------------------------------------------------\u001b[0m",
      "\u001b[1;31mValueError\u001b[0m                                Traceback (most recent call last)",
      "\u001b[1;32m<ipython-input-1-f9177e1abcc5>\u001b[0m in \u001b[0;36m<module>\u001b[1;34m\u001b[0m\n\u001b[0;32m     19\u001b[0m \u001b[1;31m# Loops over the events & append the data to the necessary list\u001b[0m\u001b[1;33m\u001b[0m\u001b[1;33m\u001b[0m\u001b[1;33m\u001b[0m\u001b[0m\n\u001b[0;32m     20\u001b[0m \u001b[1;32mfor\u001b[0m \u001b[0mevent\u001b[0m \u001b[1;32min\u001b[0m \u001b[0mrange\u001b[0m\u001b[1;33m(\u001b[0m\u001b[1;36m0\u001b[0m\u001b[1;33m,\u001b[0m \u001b[0mlen\u001b[0m\u001b[1;33m(\u001b[0m\u001b[0meruptions\u001b[0m\u001b[1;33m)\u001b[0m \u001b[1;33m-\u001b[0m \u001b[1;36m1\u001b[0m\u001b[1;33m)\u001b[0m\u001b[1;33m:\u001b[0m\u001b[1;33m\u001b[0m\u001b[1;33m\u001b[0m\u001b[0m\n\u001b[1;32m---> 21\u001b[1;33m     \u001b[0meruption_times\u001b[0m\u001b[1;33m.\u001b[0m\u001b[0mappend\u001b[0m\u001b[1;33m(\u001b[0m\u001b[0mfloat\u001b[0m\u001b[1;33m(\u001b[0m\u001b[0meruptions\u001b[0m\u001b[1;33m[\u001b[0m\u001b[0mevent\u001b[0m\u001b[1;33m]\u001b[0m\u001b[1;33m[\u001b[0m\u001b[1;36m0\u001b[0m\u001b[1;33m]\u001b[0m\u001b[1;33m)\u001b[0m\u001b[1;33m)\u001b[0m\u001b[1;33m\u001b[0m\u001b[1;33m\u001b[0m\u001b[0m\n\u001b[0m\u001b[0;32m     22\u001b[0m     \u001b[0mwaiting_times\u001b[0m\u001b[1;33m.\u001b[0m\u001b[0mappend\u001b[0m\u001b[1;33m(\u001b[0m\u001b[0mfloat\u001b[0m\u001b[1;33m(\u001b[0m\u001b[0meruptions\u001b[0m\u001b[1;33m[\u001b[0m\u001b[0mevent\u001b[0m\u001b[1;33m]\u001b[0m\u001b[1;33m[\u001b[0m\u001b[1;36m1\u001b[0m\u001b[1;33m]\u001b[0m\u001b[1;33m)\u001b[0m\u001b[1;33m)\u001b[0m\u001b[1;33m\u001b[0m\u001b[1;33m\u001b[0m\u001b[0m\n\u001b[0;32m     23\u001b[0m \u001b[1;33m\u001b[0m\u001b[0m\n",
      "\u001b[1;31mValueError\u001b[0m: could not convert string to float: 'eruptions'"
     ]
    }
   ],
   "source": [
    "import csv\n",
    "import matplotlib.pyplot as plt\n",
    "\n",
    "input_file = 'old_faithful.csv'\n",
    "plt.figure(figsize = (7.5, 4.25))\n",
    "plt.style.use('classic')\n",
    "\n",
    "# Reads in file\n",
    "with open(input_file, 'r') as old_faithful_data:\n",
    "    eruptions = list(csv.reader(old_faithful_data))\n",
    "\n",
    "# Pops off file header row for data use\n",
    "eruptions.pop()\n",
    "\n",
    "# Creates default empty lists for observation variables\n",
    "eruption_times = []\n",
    "waiting_times = []\n",
    "\n",
    "# Loops over the events & append the data to the necessary list\n",
    "for event in range(0, len(eruptions) - 1):\n",
    "    eruption_times.append(float(eruptions[event][0]))\n",
    "    waiting_times.append(float(eruptions[event][1]))\n",
    "\n",
    "# Subplots\n",
    "plt.subplot(2, 2, 1)\n",
    "plt.boxplot(eruption_times)\n",
    "plt.title(\"Old Faithful Eruptions\")\n",
    "plt.xticks([1], ['Eruptions'])\n",
    "plt.xlabel(\"Length of Eruption (mins)\")\n",
    "\n",
    "plt.subplot(2, 2, 2)\n",
    "num_bins = 8\n",
    "plt.hist(eruption_times, num_bins)\n",
    "plt.title(\"Old Faithful Eruptions\")\n",
    "plt.xlabel(\"Length of Eruption (mins)\")\n",
    "\n",
    "plt.subplot(2, 2, 3)\n",
    "plt.boxplot(waiting_times)\n",
    "plt.title(\"Old Faithful Waiting Times Between Eruptions\")\n",
    "plt.xticks([1], ['Waiting'])\n",
    "plt.xlabel(\"Time Between Eruptions (mins)\")\n",
    "\n",
    "plt.subplot(2, 2, 4)\n",
    "plt.scatter(eruption_times, waiting_times)\n",
    "plt.title(\"Old Faithful Eruptions\")\n",
    "plt.xlabel(\"Length of Eruption (mins)\")\n",
    "plt.ylabel(\"Time Between Eruptions (mins)\")\n",
    "\n",
    "# Show plots in tight layout format\n",
    "plt.tight_layout()\n",
    "plt.show()"
   ]
  },
  {
   "cell_type": "code",
   "execution_count": null,
   "metadata": {},
   "outputs": [],
   "source": []
  }
 ],
 "metadata": {
  "kernelspec": {
   "display_name": "Python 3",
   "language": "python",
   "name": "python3"
  }
 },
 "nbformat": 4,
 "nbformat_minor": 2
}
