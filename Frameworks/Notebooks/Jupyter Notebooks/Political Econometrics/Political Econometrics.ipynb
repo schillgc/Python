{
 "cells": [
  {
   "cell_type": "markdown",
   "metadata": {},
   "source": [
    "# *Political Econometrics*\n",
    "##### By: Gavin Schilling"
   ]
  },
  {
   "cell_type": "markdown",
   "metadata": {},
   "source": [
    "### Imports"
   ]
  },
  {
   "cell_type": "code",
   "execution_count": 1,
   "metadata": {},
   "outputs": [],
   "source": [
    "from decimal import Decimal\n",
    "import matplotlib\n",
    "import nose\n",
    "import numpy as np\n",
    "import pandas\n",
    "import scipy\n",
    "from statistics import mean, mode\n",
    "import sympy"
   ]
  },
  {
   "cell_type": "markdown",
   "metadata": {},
   "source": [
    "# Key"
   ]
  },
  {
   "cell_type": "markdown",
   "metadata": {},
   "source": [
    "Y\n",
    ": Likelihood of Victory\n",
    "\n",
    "A1\n",
    ": Candidate's Age At Start of Presidency\n",
    "\n",
    "A2\n",
    ": Average of Candidate's Approval Poll Numbers\n",
    "\n",
    "C1\n",
    ": Campaign Contribution Total\n",
    "\n",
    "D1\n",
    ": Draft Conscription? (Dummy)\n",
    "\n",
    "E1\n",
    ": Masters | PhD? (Dummy)\n",
    "\n",
    "G1\n",
    ": Change in GDP\n",
    "\n",
    "I1\n",
    ": Inflation Rate the Year Before the Election\n",
    "\n",
    "P1\n",
    ": Registered Size of Political Party\n",
    "\n",
    "P2\n",
    ": Change of Liberal to Conservative Ideals or Visa Versa \n",
    "\n",
    "S1\n",
    ": Last 4 Years' Stock Market Variance (Start to End)\n",
    "\n",
    "U1\n",
    ": Average Annual Rate of Change in Unemployment"
   ]
  },
  {
   "cell_type": "code",
   "execution_count": 5,
   "metadata": {},
   "outputs": [
    {
     "name": "stdout",
     "output_type": "stream",
     "text": [
      "Republican\n",
      "liberal\n",
      "0.5333333333333333\n",
      "55.478051750380516\n",
      "53.32142857142857\n",
      "61.10214285714285\n",
      "0.2\n",
      "0.04178571428571429\n",
      "0.6444444444444445\n",
      "2.56\n",
      "59.574285714285715\n"
     ]
    }
   ],
   "source": [
    "data_set = [\n",
    "    (\"George Washington\", None, \"liberal\", 1, 57 + 67/365, None, None, 0, None, 0, None, None),\n",
    "    (\"John Adams\", \"Federalist\", \"conservative\", 1, 61 + 125/365, None, None, 0, None, 1, None, None),\n",
    "    (\"Thomas Jefferson\", \"Democratic-Republican\", \"liberal\", 1, 57 + 325/365, None, None, 0, None, 1, None, None),\n",
    "    (\"James Madison\", \"Democratic-Republican\", \"liberal\", 0, 57 + 353/365, None, None, 0, None, 1, None, None),\n",
    "    (\"James Monroe\", \"Democratic-Republican\", \"liberal\", 0, 58 + 310/365, None, None, 0, None, 1, None, None),\n",
    "    (\"John Quincy Adams\", \"Democratic-Republican\", \"liberal\", 0, 57 + 236/365, None, None, 0, None, 1, None, None),\n",
    "    (\"Andrew Jackson\", \"Democratic\", \"conservative\", 1, 61 + 354/365, None, None, 0, None, 1, None, None),\n",
    "    (\"Martin van Buren\", \"Democratic\", \"conservative\", 0, 54 + 89/365, None, None, 0, None, 1, None, None),\n",
    "    (\"William Henry Harrison\", \"Whig\", \"liberal\", 1, 68 + 23/365, None, None, 0, None, 0, None, None),\n",
    "    (\"John Tyler\", \"Whig\", \"liberal\", 0, 51 + 6/365, None, None, 0, None, 1, None, None),\n",
    "    (\"James K. Polk\", \"Democratic\", \"conservative\", 1, 49 + 122/365, None, None, 0, None, 1, None, None),\n",
    "    (\"Zachary Taylor\", \"Whig\", \"liberal\", 1, 64 + 100/365, None, None, 0, None, 0, None, None),\n",
    "    (\"Milliard Fillmore\", \"Whig\", \"liberal\", 0, 50 + 183/365, None, None, 0, None, 1, None, None),\n",
    "    (\"Franklin Pierce\", \"Democratic\", \"conservative\", 1, 48 + 101/365, None, None, 0, None, 1, None, None),\n",
    "    (\"James Buchanan\", \"Democratic\", \"conservative\", 0, 65 + 315/365, None, None, 0, None, 1, None, None),\n",
    "    (\"Abraham Lincoln\", \"Republican\" and \"National Union\", \"liberal\", 1, 52 + 20/365, None, None, 1, None, 1, None, None),\n",
    "    (\"Andrew Johnson\", \"National Union\", \"liberal\", 0, 56 + 107/365, None, None, 0, None, 0, None, None),\n",
    "    (\"Ulysses S. Grant\", \"Republican\", \"liberal\", 0, 46 + 311/365, None, None, 0, None, 0, None, None),\n",
    "    (\"Rutherford B. Hayes\", \"Republican\", \"liberal\", 0, 54 + 151/365, None, None, 0, None, 1, None, None),\n",
    "    (\"James A. Garfield\", \"Republican\", \"liberal\", 0, 49 + 105/365, None, None, 0, None, 1, None, None),\n",
    "    (\"Chester A. Arthur\", \"Republican\", \"liberal\", 0, 51 + 349/365, None, None, 0, None, 1, None, None),\n",
    "    (\"Grover Cleveland\", \"Democratic\", \"conservative\", 1, 47 + 351/365, None, None, 0, None, 1, None, None),\n",
    "    (\"Benjamin Harrison\", \"Republican\", \"liberal\", 1, 55 + 196/365, None, None, 0, None, 1, None, None),\n",
    "    (\"Grover Cleveland\", \"Democratic\", \"conservative\", 1, 55 + 351/365, None, None, 0, None, 0, None, None),\n",
    "    (\"William McKinley\", \"Republican\", \"liberal\", 1, 54 + 34/365, None, None, 0, None, 1, None, 62.68),\n",
    "    (\"Theodore Roosevelt\", \"Republican\", \"liberal\", 0, 42 + 322/365, None, None, 0, None, 1, None, 17.95),\n",
    "    (\"William Howard Taft\", \"Republican\", \"liberal\", 0, 51 + 170/365, None, None, 0, None, 1, None, -0.56),\n",
    "    (\"Woodrow Willson\", \"Democratic\", \"conservative\", 1, 56 + 66/365, None, None, 1, None, 1, None, -6.79),\n",
    "    (\"Warren G. Harding\", \"Republican\", \"liberal\", 1, 55 + 122/365, None, None, 0, None, 0, None, 17.43),\n",
    "    (\"Calvin Coolidge\", \"Republican\", \"liberal\", 0, 51 + 29/365, None, None, 0, None, 1, None, 265.96),\n",
    "    (\"Herbert Hoover\", \"Republican\", \"liberal\", 0, 54 + 206/365, None, -77.09, 0, 67 / 100, 0, -9.3, -82.85),\n",
    "    (\"Franklin D. Roosevelt\", \"Democratic\", \"liberal\", 0, 51 + 33/365, 63, 205.48 - 40.58 + 28.37 + 15.33, 1, -18 / 100, 1, 9.3, 154.52),\n",
    "    (\"Harry S, Truman\", \"Democratic\", \"liberal\", 0, 60 + 339/365, 45.4, 69.30, 1, -3.6 / 100, 0, 1.3, 81.08),\n",
    "    (\"Dwight D. Eisenhower\", \"Republican\", \"conservative\", 1, 62 + 98/365, 65, 71.63 + 34.32, 1, 11 / 100, 0, 3, 119.58),\n",
    "    (\"John F. Kennedy\", \"Democratic\", \"liberal\", 1, 43 + 236/365, 70.1, 44.89, 1, -8.1 / 100, 0, 4.4, 15.49),\n",
    "    (\"Lyndon B. Johnson\", \"Democratic\", \"liberal\", 0, 55 + 87/365, 55.1, 17.38, 1, -7.6 / 100, 0, 5.3, 31.49),\n",
    "    (\"Richard Nixon\", \"Republican\", \"conservative\", 1, 56 + 11/365, 49.1, 16.42, 1, 9.2 / 100, 1, 3.5, -15.72),\n",
    "    (\"Gerald Ford\", \"Republican\", \"conservative\", 0, 61 + 26/365, 47.2, -13.31, 1, 9.2 / 100, 1, 1.6, 24.62),\n",
    "    (\"Jimmy Carter\", \"Democratic\", \"liberal\", 1, 52 + 111/365, 45.5, 26.77, 0, 1.7 / 100, 0, 3.3, 1.25),\n",
    "    (\"Ronald Reagon\", \"Republican\", \"conservative\", 1, 69 + 349/365, 52.8, 27.5 + 67.31, 0, -4.4 / 100, 0, 3.5, 135.53),\n",
    "    (\"George H. W. Bush\", \"Republican\", \"conservative\", 0, 64 + 222/365, 60.9, 72.27, 0, 6.8 / 100, 0, 2.3, 45.66),\n",
    "    (\"Bill Clinton\", \"Democratic\", \"liberal\", 1, 46 + 154/365, 55.1, 97.85 + 82.98, 0, -4.7 / 100, 1, 3.9, 226.58),\n",
    "    (\"George W. Bush\", \"Republican\", \"conservative\", 1, 54 + 198/365, 49.4, -6.62 - 26.3, 0, 8.9 / 100, 1, 2.2, -21.78),\n",
    "    (\"Barack Obama\", \"Democratic\", \"liberal\", 1, 47 + 169/365, 47.9, 90.70 + 50.83, 0, -8.9 / 100, 1, 1.6, 148.23),\n",
    "    (\"Donald Trump\", \"Republican\", \"conservative\", 1, 70 + 220/365, 40, None, 0, None, 0, 2.5, 30.71),\n",
    "]\n",
    "\n",
    "print(mode([political_party[1] for political_party in data_set[1:45]]))\n",
    "print(mode([idealogy[2] for idealogy in data_set]))\n",
    "print(mean([change_from_previous_administration_idealogy[3] for change_from_previous_administration_idealogy in data_set]))\n",
    "print(mean([age_starting_presidency[4] for age_starting_presidency in data_set]))\n",
    "print(mean([approval_poll[5] for approval_poll in data_set[31:45]]))\n",
    "print(mean([stock_market[6] for stock_market in data_set[30:44]]))\n",
    "print(mean([draft[7] for draft in data_set]))\n",
    "print(mean([unemployment_rate[8] for unemployment_rate in data_set[30:44]]))\n",
    "print(mean([education[9] for education in data_set]))\n",
    "print(mean([gdp[10] for gdp in data_set[30:45]]))\n",
    "print(mean([stock_market[11] for stock_market in data_set[24:45]]))"
   ]
  },
  {
   "cell_type": "markdown",
   "metadata": {},
   "source": [
    "# Expected Results"
   ]
  },
  {
   "cell_type": "code",
   "execution_count": 10,
   "metadata": {},
   "outputs": [
    {
     "name": "stdout",
     "output_type": "stream",
     "text": [
      "[('A1', 0.5547805175038052), ('A2', 0.5332142857142856), ('D1', 0.2), ('E1', 0.6444444444444445), ('G1', 0.0256), ('P2', 0.5333333333333333), ('S1', 0.5957428571428571), ('U1', 0.04178571428571429)]\n"
     ]
    }
   ],
   "source": [
    "A1 = mean([age_starting_presidency[4] for age_starting_presidency in data_set])/100\n",
    "A2 = mean([approval_poll[5] for approval_poll in data_set[31:45]])/100\n",
    "D1 = mean([draft[7] for draft in data_set])\n",
    "E1 = mean([education[9] for education in data_set])\n",
    "G1 = mean([gdp[10] for gdp in data_set[30:45]])/100\n",
    "P2 = mean([change_from_previous_administration_idealogy[3] for change_from_previous_administration_idealogy in data_set])\n",
    "S1 = mean([stock_market[11] for stock_market in data_set[24:45]])/100\n",
    "U1 = mean([unemployment_rate[8] for unemployment_rate in data_set[30:44]])\n",
    "\n",
    "print([(\"A1\", A1), (\"A2\", A2), (\"D1\", D1), (\"E1\", E1), (\"G1\", G1), (\"P2\", P2), (\"S1\", S1), (\"U1\", U1)])"
   ]
  },
  {
   "cell_type": "markdown",
   "metadata": {},
   "source": [
    "# Dependant Variables Declaration\n"
   ]
  },
  {
   "cell_type": "code",
   "execution_count": null,
   "metadata": {},
   "outputs": [],
   "source": [
    "age_at_start_of_presidency = input(\"What will be the age of the candidate if (s)he takes office? \")\n",
    "average_approval_poll_number = input(\"What has been the average approval poll rating for the candidate in this role? \")\n",
    "campaign_contribution_total = input(\"What are the total campaign contributions for this candidate in this race? \")\n",
    "draft = input(\"Is the draft currently enacted? \")\n",
    "education = input(\"How many years beyond an undergradute degree has the candidate completed? \")\n",
    "gdp = input(\"What was The Nation's GDP the Year Prior to the Election? \")\n",
    "inflation_rate = input(\"What was The Nation's Inflation Rate the Year Prior to the Election? \")\n",
    "political_party_size_relative_to_general_population = input(\"What is the proportional size of registered voters for the candidate's political party relative to the general voting population \")\n",
    "change_of_political_party = input(\"Would it take a political party change to elect the candidate? \")\n",
    "stock_market = input(\"What is the variance of the current presidential term [using formula: starting value - current value] \")\n",
    "unemployment_rate = input(\"What has been the average unemployment rate under the current presidentual term? \")"
   ]
  },
  {
   "cell_type": "markdown",
   "metadata": {},
   "source": [
    "# Multivariant Linear Regressional Equation"
   ]
  },
  {
   "cell_type": "code",
   "execution_count": null,
   "metadata": {},
   "outputs": [],
   "source": [
    "A1_age = Decimal(A1) * Decimal(age_at_start_of_presidency)\n",
    "A2_poll_number = Decimal(A2) * Decimal(average_approval_poll_number)\n",
    "P2_change = P2 * change_of_political_party"
   ]
  },
  {
   "cell_type": "markdown",
   "metadata": {},
   "source": [
    "# Results"
   ]
  },
  {
   "cell_type": "code",
   "execution_count": null,
   "metadata": {},
   "outputs": [],
   "source": [
    "print (A1_age)\n",
    "print (A2_poll_number)\n",
    "print (P2_change)"
   ]
  }
 ],
 "metadata": {
  "kernelspec": {
   "display_name": "Python 3",
   "language": "python",
   "name": "python3"
  },
  "language_info": {
   "codemirror_mode": {
    "name": "ipython",
    "version": 3
   },
   "file_extension": ".py",
   "mimetype": "text/x-python",
   "name": "python",
   "nbconvert_exporter": "python",
   "pygments_lexer": "ipython3",
   "version": "3.7.7"
  }
 },
 "nbformat": 4,
 "nbformat_minor": 4
}
